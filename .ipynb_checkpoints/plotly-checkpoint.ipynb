{
 "cells": [
  {
   "cell_type": "code",
   "execution_count": 1,
   "metadata": {
    "ExecuteTime": {
     "end_time": "2020-11-20T05:45:52.425187Z",
     "start_time": "2020-11-20T05:45:50.716512Z"
    }
   },
   "outputs": [],
   "source": [
    "import dash\n",
    "import dash_core_components as dcc\n",
    "import dash_html_components as html\n",
    "from dash.dependencies import Input,Output,State\n",
    "import plotly.express as px\n",
    "import pandas as pd\n",
    "import json\n",
    "import os\n",
    "import matplotlib.pyplot as plt\n",
    "import rf_model"
   ]
  },
  {
   "cell_type": "code",
   "execution_count": 2,
   "metadata": {
    "ExecuteTime": {
     "end_time": "2020-11-20T05:45:52.601783Z",
     "start_time": "2020-11-20T05:45:52.426161Z"
    }
   },
   "outputs": [],
   "source": [
    "data = pd.read_csv('cars_v2(ModelReady).csv', index_col='Unnamed: 0')\n",
    "data['state']=data['state'].apply(lambda x: x.upper())\n",
    "file = open('./aval_models.json','r')\n",
    "aval_models = json.loads(file.read())\n",
    "file.close()"
   ]
  },
  {
   "cell_type": "code",
   "execution_count": 3,
   "metadata": {
    "ExecuteTime": {
     "end_time": "2020-11-20T05:45:52.646900Z",
     "start_time": "2020-11-20T05:45:52.603781Z"
    }
   },
   "outputs": [],
   "source": [
    "brands = [{'label': brand.capitalize(), 'value':brand} for brand in data['manufacturer'].value_counts().index]\n",
    "year_options = [{'label': year, 'value':year} for year in range(2020,1980,-1)]\n",
    "map_data = pd.crosstab(data['state'], 'count')\n",
    "map_data['state'] = map_data.index\n"
   ]
  },
  {
   "cell_type": "code",
   "execution_count": 8,
   "metadata": {
    "ExecuteTime": {
     "end_time": "2020-11-20T05:54:35.566919Z",
     "start_time": "2020-11-20T05:53:33.626273Z"
    },
    "code_folding": [
     9,
     18
    ],
    "scrolled": false
   },
   "outputs": [
    {
     "name": "stdout",
     "output_type": "stream",
     "text": [
      "Dash is running on http://127.0.0.1:8055/\n",
      "\n",
      "Dash is running on http://127.0.0.1:8055/\n",
      "\n",
      "Dash is running on http://127.0.0.1:8055/\n",
      "\n",
      "Dash is running on http://127.0.0.1:8055/\n",
      "\n",
      " * Serving Flask app \"__main__\" (lazy loading)\n",
      " * Environment: production\n",
      "   WARNING: This is a development server. Do not use it in a production deployment.\n",
      "   Use a production WSGI server instead.\n",
      " * Debug mode: off\n"
     ]
    },
    {
     "name": "stderr",
     "output_type": "stream",
     "text": [
      " * Running on http://127.0.0.1:8055/ (Press CTRL+C to quit)\n",
      "127.0.0.1 - - [20/Nov/2020 00:53:35] \"\u001b[37mGET / HTTP/1.1\u001b[0m\" 200 -\n",
      "127.0.0.1 - - [20/Nov/2020 00:53:35] \"\u001b[37mGET /_dash-dependencies HTTP/1.1\u001b[0m\" 200 -\n",
      "127.0.0.1 - - [20/Nov/2020 00:53:35] \"\u001b[37mGET /_favicon.ico?v=1.17.0 HTTP/1.1\u001b[0m\" 200 -\n",
      "127.0.0.1 - - [20/Nov/2020 00:53:36] \"\u001b[37mGET /_dash-layout HTTP/1.1\u001b[0m\" 200 -\n",
      "127.0.0.1 - - [20/Nov/2020 00:53:36] \"\u001b[37mPOST /_dash-update-component HTTP/1.1\u001b[0m\" 200 -\n",
      "127.0.0.1 - - [20/Nov/2020 00:53:36] \"\u001b[37mPOST /_dash-update-component HTTP/1.1\u001b[0m\" 200 -\n",
      "127.0.0.1 - - [20/Nov/2020 00:53:40] \"\u001b[37mPOST /_dash-update-component HTTP/1.1\u001b[0m\" 200 -\n",
      "c:\\users\\andrey\\appdata\\local\\programs\\python\\python38-32\\lib\\site-packages\\category_encoders\\utils.py:21: FutureWarning:\n",
      "\n",
      "is_categorical is deprecated and will be removed in a future version.  Use is_categorical_dtype instead\n",
      "\n",
      "[Parallel(n_jobs=-1)]: Using backend LokyBackend with 6 concurrent workers.\n"
     ]
    },
    {
     "name": "stdout",
     "output_type": "stream",
     "text": [
      "Fitting 5 folds for each of 30 candidates, totalling 150 fits\n"
     ]
    },
    {
     "name": "stderr",
     "output_type": "stream",
     "text": [
      "[Parallel(n_jobs=-1)]: Done  38 tasks      | elapsed:    3.1s\n",
      "[Parallel(n_jobs=-1)]: Done 150 out of 150 | elapsed:    8.9s finished\n",
      "c:\\users\\andrey\\appdata\\local\\programs\\python\\python38-32\\lib\\site-packages\\category_encoders\\utils.py:21: FutureWarning:\n",
      "\n",
      "is_categorical is deprecated and will be removed in a future version.  Use is_categorical_dtype instead\n",
      "\n",
      "127.0.0.1 - - [20/Nov/2020 00:53:56] \"\u001b[37mPOST /_dash-update-component HTTP/1.1\u001b[0m\" 200 -\n"
     ]
    }
   ],
   "source": [
    "\n",
    "# Price Histogram figure\n",
    "figure_price = px.histogram(data,x='price', nbins=20, title='Price Distribution')\n",
    "figure_price.update_xaxes(title_text='Price USD')\n",
    "figure_price.update_yaxes(title_text='Entries Count')\n",
    "figure_price.update_traces(marker_color='rgb(252,78,42)', marker_line_color='rgb(227,26,28)',\n",
    "                  marker_line_width=1.5, opacity=0.6)\n",
    "\n",
    "# Brands Bar Chart figure\n",
    "figure_brands = px.bar(x=data['manufacturer'].value_counts(), y=data['manufacturer'].value_counts().index,\n",
    "                      orientation='h', title='Manufacturers')\n",
    "figure_brands.update_layout( yaxis = dict(tickmode = 'linear',tick0 = 0,dtick = 1))\n",
    "figure_brands.update_yaxes(title_text='')\n",
    "figure_brands.update_xaxes(title_text='Entries Count')\n",
    "figure_brands.update_traces(marker_color='rgb(252,78,42)', marker_line_color='rgb(227,26,28)',\n",
    "                  marker_line_width=1.5, opacity=0.6)\n",
    "\n",
    "# Chloropleth figure\n",
    "figure_map = px.choropleth(map_data, locations='state', color='count',\n",
    "                           locationmode='USA-states',\n",
    "                           scope='usa',\n",
    "                           labels={'state': 'State',\n",
    "                                   'count': 'Number of Entries'},\n",
    "                           color_continuous_scale=px.colors.sequential.YlOrRd,\n",
    "                           title='Entries by State'\n",
    "                          )\n",
    "\n",
    "# Age distribution figure\n",
    "figure_age = px.histogram(data, x='age', nbins = 20, title='Age Distribution')\n",
    "figure_age.update_xaxes(title_text='Age')\n",
    "figure_age.update_yaxes(title_text='Entries Count')\n",
    "figure_age.update_traces(marker_color='rgb(252,78,42)', marker_line_color='rgb(227,26,28)',\n",
    "                  marker_line_width=1.5, opacity=0.6)\n",
    "\n",
    "app = dash.Dash()\n",
    "\n",
    "app.layout = html.Div([\n",
    "    \n",
    "html.Div(['______Training Data Overview______'], id='body_title', className = 'containers'),\n",
    "    \n",
    "html.Div(id='output', className = 'containers'),\n",
    "html.Div(id='mae', className = 'containers'),\n",
    "     \n",
    "\n",
    "html.Div([dcc.Dropdown(\n",
    "    id=\"brand_selector\", \n",
    "    options = brands,\n",
    "    placeholder = 'Make', \n",
    "    value=None)], id='brand_selector_container', className = 'containers'),\n",
    "\n",
    "html.Div([dcc.Dropdown(\n",
    "    id=\"model_selector\",\n",
    "    placeholder='Model')], id='model_selector_container', className = 'containers'),\n",
    "    \n",
    "html.Div([html.Button(children='Submit', id='submit_button',n_clicks=0, className='containers')], id='submit_button_container', className='containers'),\n",
    "\n",
    "html.Div([dcc.Dropdown(\n",
    "    id='year_selector',\n",
    "    options=year_options,\n",
    "    placeholder='Year')],id='year_selector_container', className = 'containers'),\n",
    "\n",
    "html.Div([dcc.Dropdown(\n",
    "    id='condition_selector',\n",
    "    options = [\n",
    "    {'label':'New', 'value':'new'},\n",
    "    {'label':'Excellent', 'value':'excellent'},\n",
    "    {'label':'Good', 'value':'good'},\n",
    "    {'label':'Fair', 'value':'fair'}\n",
    "    ], placeholder='Condition')], id='condition_selector_container', className = 'containers'),\n",
    "    \n",
    "html.Div([dcc.Input(\n",
    "            id='odometer_selector',\n",
    "            className = 'containers',\n",
    "            type='number',\n",
    "            placeholder='Mileage',\n",
    "            min=0, max = 300000, size='0'\n",
    "        )], id='odometer_selector_container', className = 'containers'),\n",
    "    \n",
    "html.Div([dcc.Graph(\n",
    "    id='price_distribution_plot',\n",
    "    figure=figure_price,\n",
    "    responsive = True,\n",
    "    config={'displayModeBar':False}\n",
    "    )], id='price_distribution_plot_container', className = 'containers'),\n",
    "    \n",
    "html.Div([dcc.Graph(\n",
    "    id='brand_distribution',\n",
    "    figure=figure_brands,\n",
    "    responsive=True,\n",
    "    config={'displayModeBar':False}\n",
    "    )], id='brand_distribution_plot_container', className = 'containers'),\n",
    "\n",
    "html.Div([dcc.Graph(\n",
    "    id='map_plot',\n",
    "    figure=figure_map,\n",
    "    responsive=True,\n",
    "    config={'displayModeBar':False}\n",
    "    )], id='map_plot_container', className = 'containers'),\n",
    "    \n",
    "html.Div([dcc.Graph(\n",
    "    id='age_distribution_plot',\n",
    "    figure=figure_age,\n",
    "    responsive=True,\n",
    "    config={'displayModeBar':False}\n",
    "    )], id='age_distribution_plot_container', className = 'containers')\n",
    "\n",
    "\n",
    "], id='main_container')\n",
    "                          \n",
    "#______________________________________________________________________________                         \n",
    "\n",
    "# Assign options to Model Selector\n",
    "\n",
    "@app.callback(\n",
    "    Output(\"model_selector\", \"options\"),\n",
    "    [Input(\"brand_selector\", \"value\")])\n",
    "\n",
    "def model_options(value):\n",
    "    if (value):\n",
    "        return [{'label': model.capitalize(), 'value':model} for model in aval_models[value]]\n",
    "    return []\n",
    "\n",
    "# Gather case data\n",
    "@app.callback(\n",
    "    [Output(\"output\", \"children\"),Output(\"mae\", \"children\"),Output(\"output\", \"style\")],\n",
    "    [Input(\"submit_button\", \"n_clicks\")],\n",
    "    [State(\"condition_selector\",\"value\"),\n",
    "     State(\"odometer_selector\", \"value\"),\n",
    "     State(\"brand_selector\", \"value\"),\n",
    "     State(\"model_selector\", \"value\"),\n",
    "     State(\"year_selector\", \"value\")])\n",
    "\n",
    "def gather_case_data(n_clicks, cond, odo, brand, model, year):\n",
    "    if (n_clicks>0):\n",
    "        case = {'condition': cond, 'odometer': odo,  \n",
    "                'manufacturer': brand, 'model': model, 'year': year}\n",
    "\n",
    "        for i in case.keys():\n",
    "            if (case[i] == None):\n",
    "                return ('Incomplete entry', None, {'color':'red'})\n",
    "        \n",
    "        case['age'] = 2020 - case['year']\n",
    "        \n",
    "        if (case['age']==0):\n",
    "            case['miles_per_year']=int(odo)\n",
    "        \n",
    "        if (odo==0):\n",
    "            case['miles_per_year']=0\n",
    "        \n",
    "        if (case['age']>0 and odo>0):\n",
    "            case['miles_per_year'] = int(case['odometer']/case['age'])\n",
    "        \n",
    "        sample = pd.DataFrame({'age': [case['age']], 'odometer': [odo], 'miles_per_year':[case['miles_per_year']],\n",
    "                                                                                             'condition': [cond]})\n",
    "        \n",
    "        obj = rf_model.SelectModel(case['manufacturer'], case['model'], data)\n",
    "        prediction = obj.fit_predict(sample)\n",
    "        \n",
    "        fig1 = px.histogram(x=obj.y, nbins=30, title=f\"{case['manufacturer']} {case['model']} Price Distribution\")\n",
    "        fig1.update_xaxes(title_text='Price USD')\n",
    "        fig1.update_yaxes(title_text='Entries Count')\n",
    "        fig1.update_traces(marker_color='rgb(252,78,42)', marker_line_color='rgb(227,26,28)',\n",
    "                          marker_line_width=1.5, opacity=0.6)\n",
    "        \n",
    "        \n",
    "        fig2 = px.histogram(x=2020 - obj.X['age'], nbins = 30, title=f\"{case['manufacturer']} {case['model']} Age Distribution\")\n",
    "        fig2.update_xaxes(title_text='Age')\n",
    "        fig2.update_yaxes(title_text='Entries Count')\n",
    "        fig2.update_traces(marker_color='rgb(252,78,42)', marker_line_color='rgb(227,26,28)',\n",
    "                          marker_line_width=1.5, opacity=0.6)\n",
    "        \n",
    "        \n",
    "        return (f'Predicted price: {prediction}$', \n",
    "                f\"Mean Absolute Error for {case['manufacturer']} {case['model']} population: {obj.mae}$\", \n",
    "                {'color':'white'})\n",
    "                \n",
    "    return (None, None, None)\n",
    "\n",
    "\n",
    "if __name__ == '__main__':\n",
    "    app.run_server(debug=False, port=8055)\n"
   ]
  },
  {
   "cell_type": "code",
   "execution_count": null,
   "metadata": {},
   "outputs": [],
   "source": []
  }
 ],
 "metadata": {
  "kernelspec": {
   "display_name": "Python 3",
   "language": "python",
   "name": "python3"
  },
  "language_info": {
   "codemirror_mode": {
    "name": "ipython",
    "version": 3
   },
   "file_extension": ".py",
   "mimetype": "text/x-python",
   "name": "python",
   "nbconvert_exporter": "python",
   "pygments_lexer": "ipython3",
   "version": "3.8.2"
  },
  "latex_envs": {
   "LaTeX_envs_menu_present": true,
   "autoclose": false,
   "autocomplete": true,
   "bibliofile": "biblio.bib",
   "cite_by": "apalike",
   "current_citInitial": 1,
   "eqLabelWithNumbers": true,
   "eqNumInitial": 1,
   "hotkeys": {
    "equation": "Ctrl-E",
    "itemize": "Ctrl-I"
   },
   "labels_anchors": false,
   "latex_user_defs": false,
   "report_style_numbering": false,
   "user_envs_cfg": false
  },
  "varInspector": {
   "cols": {
    "lenName": 16,
    "lenType": 16,
    "lenVar": 40
   },
   "kernels_config": {
    "python": {
     "delete_cmd_postfix": "",
     "delete_cmd_prefix": "del ",
     "library": "var_list.py",
     "varRefreshCmd": "print(var_dic_list())"
    },
    "r": {
     "delete_cmd_postfix": ") ",
     "delete_cmd_prefix": "rm(",
     "library": "var_list.r",
     "varRefreshCmd": "cat(var_dic_list()) "
    }
   },
   "types_to_exclude": [
    "module",
    "function",
    "builtin_function_or_method",
    "instance",
    "_Feature"
   ],
   "window_display": false
  }
 },
 "nbformat": 4,
 "nbformat_minor": 4
}
