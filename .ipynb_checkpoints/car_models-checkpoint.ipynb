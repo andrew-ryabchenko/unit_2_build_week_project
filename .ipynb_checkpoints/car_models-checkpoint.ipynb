{
 "cells": [
  {
   "cell_type": "code",
   "execution_count": null,
   "metadata": {},
   "outputs": [],
   "source": [
    "# ---Entry format--- #\n",
    "\n",
    "# toyota = ['camry', 'celica', '']\n",
    "# bmw = ['750', '525',]\n",
    "\n",
    "# ---Brands that I Need--- #\n",
    "\n",
    "# ford               43112\n",
    "# chevrolet          32667\n",
    "# toyota             20422\n",
    "# honda              14333\n",
    "# nissan             13881\n",
    "# jeep               10549\n",
    "# gmc                 9521\n",
    "# ram                 8752\n",
    "# dodge               8638\n",
    "# hyundai             7018\n",
    "# subaru              6758\n",
    "# bmw                 6392\n",
    "# volkswagen          5612\n",
    "# kia                 5506\n",
    "# mercedes-benz       5053\n",
    "# chrysler            4019\n",
    "# cadillac            3505\n",
    "# buick               3361\n",
    "# lexus               3277\n",
    "# mazda               3115\n",
    "# audi                2794\n",
    "# acura               2235\n",
    "# lincoln             1923\n",
    "# infiniti            1901\n",
    "# mitsubishi          1552\n",
    "# volvo               1550\n",
    "# pontiac             1365\n",
    "# mini                1062\n",
    "# mercury              876\n",
    "# rover                788\n",
    "# saturn               788\n",
    "# jaguar               560\n",
    "# fiat                 447\n",
    "# tesla                275\n",
    "# alfa-romeo           110\n",
    "# harley-davidson       66\n",
    "# ferrari               34\n",
    "# aston-martin          26\n",
    "# land rover             9\n",
    "# porche    "
   ]
  },
  {
   "cell_type": "code",
   "execution_count": null,
   "metadata": {},
   "outputs": [],
   "source": [
    "ford = ['c-max', 'ecosport', 'edge', 'escape', 'expedition', 'explorer','f150', 'fiesta', 'flex',\n",
    "        'focus','fusion','gt','mustang','ranger',\n",
    "        'taurus', 'transit', 'aerostar', 'aspire', ]\n",
    "chevrolet = ['blazer', 'bolt','camaro','colorado','city express','corvette', 'cruze', 'equinox','express'\n",
    "             'impala','malibu','silverado','sonic','spark', 'ss','suburban','tahoe', 'traverse', 'trax','volt',\n",
    "            ]\n",
    "porche = ['911', '918','924', '928','944','968','carrera', 'boxster',\n",
    "          'cayenne','cayman', 'macan', 'panamera', 'taycan'  'targa',    ] \n",
    "mercedes-benz = ['a220', 'c43','c63', 'cla35','cla45','cls53', 'cls63', 'e43', 'e53', 'e63', 'g63', 'g65', 'gla45', 'glc43',\n",
    "                 'glc63', 'gle43', 'gle63','gt','s63', 's65', 'sl63', 'sl65', 'slc43', 'slk55', 'b250e', 'c300', 'c350',\n",
    "                 'c450', 'cla250', 'cls400', 'cls450', 'cls550','e250', 'e300', 'e350', 'e400', 'e450', 'e550', 'g550',\n",
    "                 'gl350', 'gl450', 'gl550', 'gl350', 'gla250', 'glb250', 'glc300', 'glc350', 'gle300', 'gle350', 'gle400',\n",
    "                 'gle450', 'gle550','gle580', 'gls450', 'gls550', 'gle550','gle580', 'gls450', 'gls550', 'gls580',\n",
    "                 'maybachs600','maybachs550', 'maybachs560', 'maybachs650', 'metris','s450', 's550', 's560', 's600','sl400', 'sl450','sl550',  Mercedes-Benz SLC300\n",
    "Mercedes-Benz SLK300\n",
    "Mercedes-Benz SLK350 \n",
    "               \n",
    "                "
   ]
  }
 ],
 "metadata": {
  "kernelspec": {
   "display_name": "Python 3",
   "language": "python",
   "name": "python3"
  },
  "language_info": {
   "codemirror_mode": {
    "name": "ipython",
    "version": 3
   },
   "file_extension": ".py",
   "mimetype": "text/x-python",
   "name": "python",
   "nbconvert_exporter": "python",
   "pygments_lexer": "ipython3",
   "version": "3.8.2"
  },
  "latex_envs": {
   "LaTeX_envs_menu_present": true,
   "autoclose": false,
   "autocomplete": true,
   "bibliofile": "biblio.bib",
   "cite_by": "apalike",
   "current_citInitial": 1,
   "eqLabelWithNumbers": true,
   "eqNumInitial": 1,
   "hotkeys": {
    "equation": "Ctrl-E",
    "itemize": "Ctrl-I"
   },
   "labels_anchors": false,
   "latex_user_defs": false,
   "report_style_numbering": false,
   "user_envs_cfg": false
  },
  "varInspector": {
   "cols": {
    "lenName": 16,
    "lenType": 16,
    "lenVar": 40
   },
   "kernels_config": {
    "python": {
     "delete_cmd_postfix": "",
     "delete_cmd_prefix": "del ",
     "library": "var_list.py",
     "varRefreshCmd": "print(var_dic_list())"
    },
    "r": {
     "delete_cmd_postfix": ") ",
     "delete_cmd_prefix": "rm(",
     "library": "var_list.r",
     "varRefreshCmd": "cat(var_dic_list()) "
    }
   },
   "types_to_exclude": [
    "module",
    "function",
    "builtin_function_or_method",
    "instance",
    "_Feature"
   ],
   "window_display": false
  }
 },
 "nbformat": 4,
 "nbformat_minor": 4
}
