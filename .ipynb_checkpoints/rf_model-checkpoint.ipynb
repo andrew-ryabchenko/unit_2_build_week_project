{
 "cells": [
  {
   "cell_type": "code",
   "execution_count": 110,
   "metadata": {
    "ExecuteTime": {
     "end_time": "2020-11-20T02:58:23.359595Z",
     "start_time": "2020-11-20T02:58:23.353612Z"
    }
   },
   "outputs": [],
   "source": [
    "import pandas as pd \n",
    "import numpy as np\n",
    "import matplotlib.pyplot as plt\n",
    "from sklearn.linear_model import Ridge\n",
    "from sklearn.ensemble import RandomForestRegressor,GradientBoostingRegressor\n",
    "from sklearn.tree import DecisionTreeRegressor\n",
    "from sklearn.impute import SimpleImputer\n",
    "from sklearn.pipeline import make_pipeline\n",
    "from category_encoders import OrdinalEncoder, OneHotEncoder\n",
    "from sklearn.model_selection import train_test_split\n",
    "from sklearn.metrics import mean_absolute_error\n",
    "from sklearn.compose import ColumnTransformer \n",
    "from sklearn.preprocessing import StandardScaler\n",
    "from sklearn.model_selection import RandomizedSearchCV"
   ]
  },
  {
   "cell_type": "code",
   "execution_count": 116,
   "metadata": {
    "ExecuteTime": {
     "end_time": "2020-11-20T03:07:37.311048Z",
     "start_time": "2020-11-20T03:07:37.153995Z"
    }
   },
   "outputs": [],
   "source": [
    "data = pd.read_csv('./cars_v2(ModelReady).csv', index_col='Unnamed: 0')"
   ]
  },
  {
   "cell_type": "code",
   "execution_count": 111,
   "metadata": {
    "ExecuteTime": {
     "end_time": "2020-11-20T02:59:27.377813Z",
     "start_time": "2020-11-20T02:59:27.368854Z"
    }
   },
   "outputs": [],
   "source": [
    "class SelectModel:\n",
    "    \n",
    "    def __init__(self,make,model,data):\n",
    "        self.model = model\n",
    "        self.make = make\n",
    "        self.data = data\n",
    "    \n",
    "    def filter_data(self):\n",
    "        cond = (self.data['manufacturer']==self.make) & (self.data['model']==self.model)\n",
    "        return self.data[cond]\n",
    "        \n",
    "    def fmtvs(self):\n",
    "        model_data = self.filter_data()\n",
    "        return (model_data.drop(columns=['price','manufacturer','model','state','paint_color','drive',\n",
    "                                         'type']),model_data['price'])\n",
    "    \n",
    "    def fit_predict(self, sample_case):\n",
    "        self.X, self.y = self.fmtvs()\n",
    "        transformer = ColumnTransformer([('imputer', SimpleImputer(strategy='most_frequent'),['fuel', 'transmission']),\n",
    "                                         ('scaler', StandardScaler(),['miles_per_year','odometer','age'])])\n",
    "        model = make_pipeline(\n",
    "                    transformer,\n",
    "                    OneHotEncoder(),\n",
    "                    Ridge(random_state=42)\n",
    "                    )\n",
    "        model.fit(self.X,self.y)\n",
    "        #return model.predict(sample_case)[0]\n",
    "        params = {\n",
    "                'ridge__alpha': range(1,2),\n",
    "            }\n",
    "\n",
    "        search = RandomizedSearchCV(model,\n",
    "                                    params,\n",
    "                                    n_iter=30,\n",
    "                                    n_jobs=-1,\n",
    "                                    cv=5,\n",
    "                                    verbose=True,\n",
    "                                    random_state=42)\n",
    "        search.fit(self.X,self.y)\n",
    "        \n",
    "        self.model = search.best_estimator_\n",
    "        self.params = search.best_params_\n",
    "        self.score = search.best_score_\n",
    "        self.prediction = int(self.model.predict(sample_case))\n",
    "        self.mae = int(mean_absolute_error(self.y, self.model.predict(self.X)))\n",
    "        \n",
    "        return self.prediction\n"
   ]
  },
  {
   "cell_type": "code",
   "execution_count": 112,
   "metadata": {
    "ExecuteTime": {
     "end_time": "2020-11-20T02:59:35.643560Z",
     "start_time": "2020-11-20T02:59:35.638573Z"
    }
   },
   "outputs": [],
   "source": [
    "sample = pd.DataFrame({'condition': ['fair'], 'cylinders': '4 cylinders', 'fuel': 'hybrid','odometer': [168000], 'title_status': ['clean'],\n",
    "                       'transmission': 'automatic', 'size': 'compact','age': [14], 'miles_per_year': [12000]})"
   ]
  },
  {
   "cell_type": "code",
   "execution_count": 118,
   "metadata": {
    "ExecuteTime": {
     "end_time": "2020-11-20T03:10:11.711842Z",
     "start_time": "2020-11-20T03:10:11.704832Z"
    }
   },
   "outputs": [],
   "source": [
    "data_c = data[['manufacturer','model','condition','age','odometer', 'miles_per_year','price']]"
   ]
  },
  {
   "cell_type": "code",
   "execution_count": 120,
   "metadata": {
    "ExecuteTime": {
     "end_time": "2020-11-20T03:10:51.784887Z",
     "start_time": "2020-11-20T03:10:51.765911Z"
    }
   },
   "outputs": [
    {
     "data": {
      "text/plain": [
       "manufacturer      0\n",
       "model             0\n",
       "condition         0\n",
       "age               0\n",
       "odometer          0\n",
       "miles_per_year    0\n",
       "price             0\n",
       "dtype: int64"
      ]
     },
     "execution_count": 120,
     "metadata": {},
     "output_type": "execute_result"
    }
   ],
   "source": [
    "data_c.isnull().sum()"
   ]
  },
  {
   "cell_type": "code",
   "execution_count": 119,
   "metadata": {
    "ExecuteTime": {
     "end_time": "2020-11-20T03:10:29.948889Z",
     "start_time": "2020-11-20T03:10:29.941944Z"
    }
   },
   "outputs": [],
   "source": [
    "X = data_c.drop(columns=['price'])\n",
    "y = data_c['price']"
   ]
  },
  {
   "cell_type": "code",
   "execution_count": 121,
   "metadata": {
    "ExecuteTime": {
     "end_time": "2020-11-20T03:13:10.377693Z",
     "start_time": "2020-11-20T03:13:10.361763Z"
    }
   },
   "outputs": [],
   "source": [
    "X_train, X_test, y_train, y_test = train_test_split(X,y, test_size = 0.2, random_state=42)"
   ]
  },
  {
   "cell_type": "code",
   "execution_count": 123,
   "metadata": {
    "ExecuteTime": {
     "end_time": "2020-11-20T03:14:28.226872Z",
     "start_time": "2020-11-20T03:14:28.222886Z"
    }
   },
   "outputs": [],
   "source": [
    "transformer = ColumnTransformer([('scaler', StandardScaler(),['miles_per_year','odometer','age'])])"
   ]
  },
  {
   "cell_type": "code",
   "execution_count": 124,
   "metadata": {
    "ExecuteTime": {
     "end_time": "2020-11-20T03:14:49.847358Z",
     "start_time": "2020-11-20T03:14:35.966921Z"
    }
   },
   "outputs": [
    {
     "name": "stderr",
     "output_type": "stream",
     "text": [
      "c:\\users\\andrey\\appdata\\local\\programs\\python\\python38-32\\lib\\site-packages\\category_encoders\\utils.py:21: FutureWarning: is_categorical is deprecated and will be removed in a future version.  Use is_categorical_dtype instead\n",
      "  elif pd.api.types.is_categorical(cols):\n"
     ]
    },
    {
     "data": {
      "text/plain": [
       "Pipeline(steps=[('columntransformer',\n",
       "                 ColumnTransformer(transformers=[('scaler', StandardScaler(),\n",
       "                                                  ['miles_per_year', 'odometer',\n",
       "                                                   'age'])])),\n",
       "                ('onehotencoder', OneHotEncoder(cols=[])),\n",
       "                ('randomforestregressor',\n",
       "                 RandomForestRegressor(random_state=42))])"
      ]
     },
     "execution_count": 124,
     "metadata": {},
     "output_type": "execute_result"
    }
   ],
   "source": [
    "model = make_pipeline(\n",
    "            transformer,\n",
    "            OneHotEncoder(),\n",
    "            RandomForestRegressor(random_state=42))\n",
    "model.fit(X_train,y_train)\n"
   ]
  },
  {
   "cell_type": "code",
   "execution_count": 127,
   "metadata": {
    "ExecuteTime": {
     "end_time": "2020-11-20T03:15:48.140877Z",
     "start_time": "2020-11-20T03:15:48.133924Z"
    }
   },
   "outputs": [
    {
     "data": {
      "text/plain": [
       "manufacturer        hyundai\n",
       "model                sonata\n",
       "condition         excellent\n",
       "age                       7\n",
       "odometer              90821\n",
       "miles_per_year        12974\n",
       "price                  8750\n",
       "Name: 0, dtype: object"
      ]
     },
     "execution_count": 127,
     "metadata": {},
     "output_type": "execute_result"
    }
   ],
   "source": [
    "data_c.iloc[0,:]"
   ]
  },
  {
   "cell_type": "code",
   "execution_count": 126,
   "metadata": {
    "ExecuteTime": {
     "end_time": "2020-11-20T03:15:35.155875Z",
     "start_time": "2020-11-20T03:15:35.141939Z"
    }
   },
   "outputs": [
    {
     "ename": "IndexError",
     "evalue": "tuple index out of range",
     "output_type": "error",
     "traceback": [
      "\u001b[1;31m---------------------------------------------------------------------------\u001b[0m",
      "\u001b[1;31mIndexError\u001b[0m                                Traceback (most recent call last)",
      "\u001b[1;32m<ipython-input-126-71168936b82c>\u001b[0m in \u001b[0;36m<module>\u001b[1;34m\u001b[0m\n\u001b[1;32m----> 1\u001b[1;33m \u001b[0mmodel\u001b[0m\u001b[1;33m.\u001b[0m\u001b[0mpredict\u001b[0m\u001b[1;33m(\u001b[0m\u001b[0mdata_c\u001b[0m\u001b[1;33m.\u001b[0m\u001b[0miloc\u001b[0m\u001b[1;33m[\u001b[0m\u001b[1;36m0\u001b[0m\u001b[1;33m]\u001b[0m\u001b[1;33m)\u001b[0m\u001b[1;33m\u001b[0m\u001b[1;33m\u001b[0m\u001b[0m\n\u001b[0m",
      "\u001b[1;32mc:\\users\\andrey\\appdata\\local\\programs\\python\\python38-32\\lib\\site-packages\\sklearn\\utils\\metaestimators.py\u001b[0m in \u001b[0;36m<lambda>\u001b[1;34m(*args, **kwargs)\u001b[0m\n\u001b[0;32m    117\u001b[0m \u001b[1;33m\u001b[0m\u001b[0m\n\u001b[0;32m    118\u001b[0m         \u001b[1;31m# lambda, but not partial, allows help() to work with update_wrapper\u001b[0m\u001b[1;33m\u001b[0m\u001b[1;33m\u001b[0m\u001b[1;33m\u001b[0m\u001b[0m\n\u001b[1;32m--> 119\u001b[1;33m         \u001b[0mout\u001b[0m \u001b[1;33m=\u001b[0m \u001b[1;32mlambda\u001b[0m \u001b[1;33m*\u001b[0m\u001b[0margs\u001b[0m\u001b[1;33m,\u001b[0m \u001b[1;33m**\u001b[0m\u001b[0mkwargs\u001b[0m\u001b[1;33m:\u001b[0m \u001b[0mself\u001b[0m\u001b[1;33m.\u001b[0m\u001b[0mfn\u001b[0m\u001b[1;33m(\u001b[0m\u001b[0mobj\u001b[0m\u001b[1;33m,\u001b[0m \u001b[1;33m*\u001b[0m\u001b[0margs\u001b[0m\u001b[1;33m,\u001b[0m \u001b[1;33m**\u001b[0m\u001b[0mkwargs\u001b[0m\u001b[1;33m)\u001b[0m\u001b[1;33m\u001b[0m\u001b[1;33m\u001b[0m\u001b[0m\n\u001b[0m\u001b[0;32m    120\u001b[0m         \u001b[1;31m# update the docstring of the returned function\u001b[0m\u001b[1;33m\u001b[0m\u001b[1;33m\u001b[0m\u001b[1;33m\u001b[0m\u001b[0m\n\u001b[0;32m    121\u001b[0m         \u001b[0mupdate_wrapper\u001b[0m\u001b[1;33m(\u001b[0m\u001b[0mout\u001b[0m\u001b[1;33m,\u001b[0m \u001b[0mself\u001b[0m\u001b[1;33m.\u001b[0m\u001b[0mfn\u001b[0m\u001b[1;33m)\u001b[0m\u001b[1;33m\u001b[0m\u001b[1;33m\u001b[0m\u001b[0m\n",
      "\u001b[1;32mc:\\users\\andrey\\appdata\\local\\programs\\python\\python38-32\\lib\\site-packages\\sklearn\\pipeline.py\u001b[0m in \u001b[0;36mpredict\u001b[1;34m(self, X, **predict_params)\u001b[0m\n\u001b[0;32m    405\u001b[0m         \u001b[0mXt\u001b[0m \u001b[1;33m=\u001b[0m \u001b[0mX\u001b[0m\u001b[1;33m\u001b[0m\u001b[1;33m\u001b[0m\u001b[0m\n\u001b[0;32m    406\u001b[0m         \u001b[1;32mfor\u001b[0m \u001b[0m_\u001b[0m\u001b[1;33m,\u001b[0m \u001b[0mname\u001b[0m\u001b[1;33m,\u001b[0m \u001b[0mtransform\u001b[0m \u001b[1;32min\u001b[0m \u001b[0mself\u001b[0m\u001b[1;33m.\u001b[0m\u001b[0m_iter\u001b[0m\u001b[1;33m(\u001b[0m\u001b[0mwith_final\u001b[0m\u001b[1;33m=\u001b[0m\u001b[1;32mFalse\u001b[0m\u001b[1;33m)\u001b[0m\u001b[1;33m:\u001b[0m\u001b[1;33m\u001b[0m\u001b[1;33m\u001b[0m\u001b[0m\n\u001b[1;32m--> 407\u001b[1;33m             \u001b[0mXt\u001b[0m \u001b[1;33m=\u001b[0m \u001b[0mtransform\u001b[0m\u001b[1;33m.\u001b[0m\u001b[0mtransform\u001b[0m\u001b[1;33m(\u001b[0m\u001b[0mXt\u001b[0m\u001b[1;33m)\u001b[0m\u001b[1;33m\u001b[0m\u001b[1;33m\u001b[0m\u001b[0m\n\u001b[0m\u001b[0;32m    408\u001b[0m         \u001b[1;32mreturn\u001b[0m \u001b[0mself\u001b[0m\u001b[1;33m.\u001b[0m\u001b[0msteps\u001b[0m\u001b[1;33m[\u001b[0m\u001b[1;33m-\u001b[0m\u001b[1;36m1\u001b[0m\u001b[1;33m]\u001b[0m\u001b[1;33m[\u001b[0m\u001b[1;33m-\u001b[0m\u001b[1;36m1\u001b[0m\u001b[1;33m]\u001b[0m\u001b[1;33m.\u001b[0m\u001b[0mpredict\u001b[0m\u001b[1;33m(\u001b[0m\u001b[0mXt\u001b[0m\u001b[1;33m,\u001b[0m \u001b[1;33m**\u001b[0m\u001b[0mpredict_params\u001b[0m\u001b[1;33m)\u001b[0m\u001b[1;33m\u001b[0m\u001b[1;33m\u001b[0m\u001b[0m\n\u001b[0;32m    409\u001b[0m \u001b[1;33m\u001b[0m\u001b[0m\n",
      "\u001b[1;32mc:\\users\\andrey\\appdata\\local\\programs\\python\\python38-32\\lib\\site-packages\\sklearn\\compose\\_column_transformer.py\u001b[0m in \u001b[0;36mtransform\u001b[1;34m(self, X)\u001b[0m\n\u001b[0;32m    578\u001b[0m             \u001b[0mX_feature_names\u001b[0m \u001b[1;33m=\u001b[0m \u001b[1;32mNone\u001b[0m\u001b[1;33m\u001b[0m\u001b[1;33m\u001b[0m\u001b[0m\n\u001b[0;32m    579\u001b[0m \u001b[1;33m\u001b[0m\u001b[0m\n\u001b[1;32m--> 580\u001b[1;33m         \u001b[1;32mif\u001b[0m \u001b[0mself\u001b[0m\u001b[1;33m.\u001b[0m\u001b[0m_n_features\u001b[0m \u001b[1;33m>\u001b[0m \u001b[0mX\u001b[0m\u001b[1;33m.\u001b[0m\u001b[0mshape\u001b[0m\u001b[1;33m[\u001b[0m\u001b[1;36m1\u001b[0m\u001b[1;33m]\u001b[0m\u001b[1;33m:\u001b[0m\u001b[1;33m\u001b[0m\u001b[1;33m\u001b[0m\u001b[0m\n\u001b[0m\u001b[0;32m    581\u001b[0m             raise ValueError('Number of features of the input must be equal '\n\u001b[0;32m    582\u001b[0m                              \u001b[1;34m'to or greater than that of the fitted '\u001b[0m\u001b[1;33m\u001b[0m\u001b[1;33m\u001b[0m\u001b[0m\n",
      "\u001b[1;31mIndexError\u001b[0m: tuple index out of range"
     ]
    }
   ],
   "source": [
    "model.predict(data_c.iloc[0].drop())"
   ]
  },
  {
   "cell_type": "code",
   "execution_count": 125,
   "metadata": {
    "ExecuteTime": {
     "end_time": "2020-11-20T03:15:11.019865Z",
     "start_time": "2020-11-20T03:15:11.005874Z"
    }
   },
   "outputs": [
    {
     "data": {
      "text/html": [
       "<div>\n",
       "<style scoped>\n",
       "    .dataframe tbody tr th:only-of-type {\n",
       "        vertical-align: middle;\n",
       "    }\n",
       "\n",
       "    .dataframe tbody tr th {\n",
       "        vertical-align: top;\n",
       "    }\n",
       "\n",
       "    .dataframe thead th {\n",
       "        text-align: right;\n",
       "    }\n",
       "</style>\n",
       "<table border=\"1\" class=\"dataframe\">\n",
       "  <thead>\n",
       "    <tr style=\"text-align: right;\">\n",
       "      <th></th>\n",
       "      <th>manufacturer</th>\n",
       "      <th>model</th>\n",
       "      <th>condition</th>\n",
       "      <th>age</th>\n",
       "      <th>odometer</th>\n",
       "      <th>miles_per_year</th>\n",
       "      <th>price</th>\n",
       "    </tr>\n",
       "  </thead>\n",
       "  <tbody>\n",
       "    <tr>\n",
       "      <th>0</th>\n",
       "      <td>hyundai</td>\n",
       "      <td>sonata</td>\n",
       "      <td>excellent</td>\n",
       "      <td>7.0</td>\n",
       "      <td>90821.0</td>\n",
       "      <td>12974</td>\n",
       "      <td>8750</td>\n",
       "    </tr>\n",
       "    <tr>\n",
       "      <th>1</th>\n",
       "      <td>toyota</td>\n",
       "      <td>prius</td>\n",
       "      <td>good</td>\n",
       "      <td>7.0</td>\n",
       "      <td>92800.0</td>\n",
       "      <td>13257</td>\n",
       "      <td>10900</td>\n",
       "    </tr>\n",
       "    <tr>\n",
       "      <th>2</th>\n",
       "      <td>toyota</td>\n",
       "      <td>corolla</td>\n",
       "      <td>good</td>\n",
       "      <td>13.0</td>\n",
       "      <td>160600.0</td>\n",
       "      <td>12353</td>\n",
       "      <td>3400</td>\n",
       "    </tr>\n",
       "    <tr>\n",
       "      <th>3</th>\n",
       "      <td>jeep</td>\n",
       "      <td>cherokee</td>\n",
       "      <td>excellent</td>\n",
       "      <td>1.0</td>\n",
       "      <td>23772.0</td>\n",
       "      <td>23772</td>\n",
       "      <td>28990</td>\n",
       "    </tr>\n",
       "    <tr>\n",
       "      <th>4</th>\n",
       "      <td>subaru</td>\n",
       "      <td>wrx</td>\n",
       "      <td>excellent</td>\n",
       "      <td>6.0</td>\n",
       "      <td>102000.0</td>\n",
       "      <td>17000</td>\n",
       "      <td>15000</td>\n",
       "    </tr>\n",
       "    <tr>\n",
       "      <th>...</th>\n",
       "      <td>...</td>\n",
       "      <td>...</td>\n",
       "      <td>...</td>\n",
       "      <td>...</td>\n",
       "      <td>...</td>\n",
       "      <td>...</td>\n",
       "      <td>...</td>\n",
       "    </tr>\n",
       "    <tr>\n",
       "      <th>78099</th>\n",
       "      <td>subaru</td>\n",
       "      <td>forester</td>\n",
       "      <td>excellent</td>\n",
       "      <td>8.0</td>\n",
       "      <td>82000.0</td>\n",
       "      <td>10250</td>\n",
       "      <td>9885</td>\n",
       "    </tr>\n",
       "    <tr>\n",
       "      <th>78100</th>\n",
       "      <td>ford</td>\n",
       "      <td>gt</td>\n",
       "      <td>good</td>\n",
       "      <td>18.0</td>\n",
       "      <td>58000.0</td>\n",
       "      <td>3222</td>\n",
       "      <td>4800</td>\n",
       "    </tr>\n",
       "    <tr>\n",
       "      <th>78101</th>\n",
       "      <td>hyundai</td>\n",
       "      <td>sonata</td>\n",
       "      <td>fair</td>\n",
       "      <td>14.0</td>\n",
       "      <td>159980.0</td>\n",
       "      <td>11427</td>\n",
       "      <td>1600</td>\n",
       "    </tr>\n",
       "    <tr>\n",
       "      <th>78102</th>\n",
       "      <td>toyota</td>\n",
       "      <td>sequoia</td>\n",
       "      <td>excellent</td>\n",
       "      <td>17.0</td>\n",
       "      <td>160000.0</td>\n",
       "      <td>9411</td>\n",
       "      <td>9000</td>\n",
       "    </tr>\n",
       "    <tr>\n",
       "      <th>78103</th>\n",
       "      <td>nissan</td>\n",
       "      <td>versa</td>\n",
       "      <td>good</td>\n",
       "      <td>5.0</td>\n",
       "      <td>160526.0</td>\n",
       "      <td>32105</td>\n",
       "      <td>8650</td>\n",
       "    </tr>\n",
       "  </tbody>\n",
       "</table>\n",
       "<p>78104 rows × 7 columns</p>\n",
       "</div>"
      ],
      "text/plain": [
       "      manufacturer     model  condition   age  odometer  miles_per_year  price\n",
       "0          hyundai    sonata  excellent   7.0   90821.0           12974   8750\n",
       "1           toyota     prius       good   7.0   92800.0           13257  10900\n",
       "2           toyota   corolla       good  13.0  160600.0           12353   3400\n",
       "3             jeep  cherokee  excellent   1.0   23772.0           23772  28990\n",
       "4           subaru       wrx  excellent   6.0  102000.0           17000  15000\n",
       "...            ...       ...        ...   ...       ...             ...    ...\n",
       "78099       subaru  forester  excellent   8.0   82000.0           10250   9885\n",
       "78100         ford        gt       good  18.0   58000.0            3222   4800\n",
       "78101      hyundai    sonata       fair  14.0  159980.0           11427   1600\n",
       "78102       toyota   sequoia  excellent  17.0  160000.0            9411   9000\n",
       "78103       nissan     versa       good   5.0  160526.0           32105   8650\n",
       "\n",
       "[78104 rows x 7 columns]"
      ]
     },
     "execution_count": 125,
     "metadata": {},
     "output_type": "execute_result"
    }
   ],
   "source": [
    "data_c"
   ]
  }
 ],
 "metadata": {
  "kernelspec": {
   "display_name": "Python 3",
   "language": "python",
   "name": "python3"
  },
  "language_info": {
   "codemirror_mode": {
    "name": "ipython",
    "version": 3
   },
   "file_extension": ".py",
   "mimetype": "text/x-python",
   "name": "python",
   "nbconvert_exporter": "python",
   "pygments_lexer": "ipython3",
   "version": "3.8.2"
  },
  "latex_envs": {
   "LaTeX_envs_menu_present": true,
   "autoclose": false,
   "autocomplete": true,
   "bibliofile": "biblio.bib",
   "cite_by": "apalike",
   "current_citInitial": 1,
   "eqLabelWithNumbers": true,
   "eqNumInitial": 1,
   "hotkeys": {
    "equation": "Ctrl-E",
    "itemize": "Ctrl-I"
   },
   "labels_anchors": false,
   "latex_user_defs": false,
   "report_style_numbering": false,
   "user_envs_cfg": false
  },
  "varInspector": {
   "cols": {
    "lenName": 16,
    "lenType": 16,
    "lenVar": 40
   },
   "kernels_config": {
    "python": {
     "delete_cmd_postfix": "",
     "delete_cmd_prefix": "del ",
     "library": "var_list.py",
     "varRefreshCmd": "print(var_dic_list())"
    },
    "r": {
     "delete_cmd_postfix": ") ",
     "delete_cmd_prefix": "rm(",
     "library": "var_list.r",
     "varRefreshCmd": "cat(var_dic_list()) "
    }
   },
   "types_to_exclude": [
    "module",
    "function",
    "builtin_function_or_method",
    "instance",
    "_Feature"
   ],
   "window_display": false
  }
 },
 "nbformat": 4,
 "nbformat_minor": 4
}
