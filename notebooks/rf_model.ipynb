{
 "cells": [
  {
   "cell_type": "code",
   "execution_count": 83,
   "metadata": {
    "ExecuteTime": {
     "end_time": "2020-11-20T04:27:13.659081Z",
     "start_time": "2020-11-20T04:27:13.655061Z"
    }
   },
   "outputs": [],
   "source": [
    "import pandas as pd \n",
    "import numpy as np\n",
    "import matplotlib.pyplot as plt\n",
    "from sklearn.linear_model import Ridge\n",
    "from sklearn.ensemble import RandomForestRegressor,GradientBoostingRegressor\n",
    "from sklearn.tree import DecisionTreeRegressor\n",
    "from sklearn.impute import SimpleImputer\n",
    "from sklearn.pipeline import make_pipeline\n",
    "from category_encoders import OrdinalEncoder, OneHotEncoder\n",
    "from sklearn.model_selection import train_test_split\n",
    "from sklearn.metrics import mean_absolute_error\n",
    "from sklearn.compose import ColumnTransformer \n",
    "from sklearn.preprocessing import StandardScaler\n",
    "from sklearn.model_selection import RandomizedSearchCV, GridSearchCV"
   ]
  },
  {
   "cell_type": "code",
   "execution_count": 35,
   "metadata": {
    "ExecuteTime": {
     "end_time": "2020-11-20T04:11:16.172837Z",
     "start_time": "2020-11-20T04:11:16.022149Z"
    }
   },
   "outputs": [],
   "source": [
    "# data = pd.read_csv('./cars_v2(ModelReady).csv', index_col='Unnamed: 0')"
   ]
  },
  {
   "cell_type": "code",
   "execution_count": 84,
   "metadata": {
    "ExecuteTime": {
     "end_time": "2020-11-20T04:27:15.806885Z",
     "start_time": "2020-11-20T04:27:15.797911Z"
    }
   },
   "outputs": [],
   "source": [
    "class SelectModel:\n",
    "    \n",
    "    def __init__(self,make,model,data):\n",
    "        self.model = model\n",
    "        self.make = make\n",
    "        self.data = data\n",
    "    \n",
    "    def filter_data(self):\n",
    "        cond = (self.data['manufacturer']==self.make) & (self.data['model']==self.model)\n",
    "        return self.data[cond]\n",
    "        \n",
    "    def fmtvs(self):\n",
    "        model_data = self.filter_data()\n",
    "        return (model_data[['age','odometer', 'miles_per_year','condition']],model_data['price'])\n",
    "    \n",
    "    def fit_predict(self, sample_case):\n",
    "        self.X, self.y = self.fmtvs()\n",
    "        \n",
    "        model = make_pipeline(\n",
    "            OneHotEncoder(),\n",
    "            StandardScaler(),\n",
    "            RandomForestRegressor(random_state=42, n_jobs=-1))\n",
    "        model.fit(X_train,y_train)\n",
    "       \n",
    "        params = {'randomforestregressor__n_estimators': range(50,151,10),\n",
    "                  'randomforestregressor__max_depth': range(30,101,10),\n",
    "                  'randomforestregressor__min_samples_split': range(2,20)}\n",
    "        search = RandomizedSearchCV( \n",
    "                                    model,\n",
    "                                    params,\n",
    "                                    n_iter=30,\n",
    "                                    n_jobs=-1,\n",
    "                                    cv=5,\n",
    "                                    verbose=True)\n",
    "        search.fit(self.X,self.y)\n",
    "        \n",
    "        self.model = search.best_estimator_\n",
    "        self.params = search.best_params_\n",
    "        self.score = search.best_score_\n",
    "        self.prediction = int(self.model.predict(sample_case))\n",
    "        self.mae = int(mean_absolute_error(self.y, self.model.predict(self.X)))\n",
    "        \n",
    "        return self.prediction\n"
   ]
  }
 ],
 "metadata": {
  "kernelspec": {
   "display_name": "Python 3",
   "language": "python",
   "name": "python3"
  },
  "language_info": {
   "codemirror_mode": {
    "name": "ipython",
    "version": 3
   },
   "file_extension": ".py",
   "mimetype": "text/x-python",
   "name": "python",
   "nbconvert_exporter": "python",
   "pygments_lexer": "ipython3",
   "version": "3.8.2"
  },
  "latex_envs": {
   "LaTeX_envs_menu_present": true,
   "autoclose": false,
   "autocomplete": true,
   "bibliofile": "biblio.bib",
   "cite_by": "apalike",
   "current_citInitial": 1,
   "eqLabelWithNumbers": true,
   "eqNumInitial": 1,
   "hotkeys": {
    "equation": "Ctrl-E",
    "itemize": "Ctrl-I"
   },
   "labels_anchors": false,
   "latex_user_defs": false,
   "report_style_numbering": false,
   "user_envs_cfg": false
  },
  "varInspector": {
   "cols": {
    "lenName": 16,
    "lenType": 16,
    "lenVar": 40
   },
   "kernels_config": {
    "python": {
     "delete_cmd_postfix": "",
     "delete_cmd_prefix": "del ",
     "library": "var_list.py",
     "varRefreshCmd": "print(var_dic_list())"
    },
    "r": {
     "delete_cmd_postfix": ") ",
     "delete_cmd_prefix": "rm(",
     "library": "var_list.r",
     "varRefreshCmd": "cat(var_dic_list()) "
    }
   },
   "types_to_exclude": [
    "module",
    "function",
    "builtin_function_or_method",
    "instance",
    "_Feature"
   ],
   "window_display": false
  }
 },
 "nbformat": 4,
 "nbformat_minor": 4
}
